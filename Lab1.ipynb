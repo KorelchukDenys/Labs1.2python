{
  "nbformat": 4,
  "nbformat_minor": 0,
  "metadata": {
    "colab": {
      "provenance": [],
      "authorship_tag": "ABX9TyOXcGzMeFXlR6vj+Itzw9qg"
    },
    "kernelspec": {
      "name": "python3",
      "display_name": "Python 3"
    },
    "language_info": {
      "name": "python"
    }
  },
  "cells": [
    {
      "cell_type": "code",
      "execution_count": null,
      "metadata": {
        "colab": {
          "base_uri": "https://localhost:8080/"
        },
        "id": "GgaDaZXnNBpW",
        "outputId": "ba7bf890-a2d3-44ab-8a43-f74958b8b448"
      },
      "outputs": [
        {
          "output_type": "stream",
          "name": "stdout",
          "text": [
            "Парне\n",
            "28\n",
            "12345\n"
          ]
        }
      ],
      "source": [
        "# <br>1. Написати функцію з одним аргументом, яка перевіряє чи є аргумент числом. Якщо так, то повертає чи є це цисло парним чи не парним. Якщо аргумент не число - повертає пусту строку.\n",
        "def isnumber(n):\n",
        "    if isinstance(n, (int, float, complex)):\n",
        "        print('Непарне' if n%2==1 else 'Парне')\n",
        "    else:\n",
        "        return ''\n",
        "isnumber(8)\n",
        "# <br>2. Написати функцію, яка починає перебирати числа від 1 до нескінченності і перевіряє чи є число простим (просте число - те яке ділиться лише на 1 чи само на себе). Якщо просте число знайдене - воно додається до списку. Після пʼятого знайденого простого числа функція повинна повернути суму всіх пʼяти простих чисел у списку.\n",
        "\n",
        "def get_sum_five_prime():\n",
        "    def isprime(n): \n",
        "        if n<=1: \n",
        "            return False \n",
        "        for i in range(2,n): \n",
        "            if n%i==0: \n",
        "                return False \n",
        "        return True\n",
        "    n = 1\n",
        "    primes = []\n",
        "    while len(primes)<5:\n",
        "        n += 1\n",
        "        if isprime(n):\n",
        "            primes.append(n)   \n",
        "    print(sum(primes))\n",
        "\n",
        "get_sum_five_prime()\n",
        "# <br>3. Написати функцію з одним аргументом n, що є числом. Функція повинна повернути суму наступного ряду з n чисел 1 + 11 + 111 + 1111 + ...., де кожний елемент - число з постійно зростаючою кількістю одиниць.\n",
        "# Наприклад:\n",
        "# Ви передаєте в функцію фргумент 5.\n",
        "# Функція рахує сумму для ряду виду: 1 + 11 + 111 + 1111 + 11111.\n",
        "# В даному прикладі вона повинна повернути число 12345\n",
        "def func(n):\n",
        "    num = 0\n",
        "    for i in range(n):\n",
        "        num += int('1'*(i+1))\n",
        "    print(num)\n",
        "\n",
        "func(5)\n"
      ]
    }
  ]
}